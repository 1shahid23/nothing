{
 "cells": [
  {
   "cell_type": "code",
   "execution_count": 1,
   "id": "839e36d6-2d0c-4d52-a964-2de631716e33",
   "metadata": {},
   "outputs": [
    {
     "ename": "error",
     "evalue": "OpenCV(4.11.0) D:\\a\\opencv-python\\opencv-python\\opencv\\modules\\imgproc\\src\\color.cpp:199: error: (-215:Assertion failed) !_src.empty() in function 'cv::cvtColor'\n",
     "output_type": "error",
     "traceback": [
      "\u001b[31m---------------------------------------------------------------------------\u001b[39m",
      "\u001b[31merror\u001b[39m                                     Traceback (most recent call last)",
      "\u001b[36mCell\u001b[39m\u001b[36m \u001b[39m\u001b[32mIn[1]\u001b[39m\u001b[32m, line 8\u001b[39m\n\u001b[32m      6\u001b[39m \u001b[38;5;66;03m# Read image\u001b[39;00m\n\u001b[32m      7\u001b[39m img = cv2.imread(\u001b[33m'\u001b[39m\u001b[33mcat.jpeg\u001b[39m\u001b[33m'\u001b[39m)\n\u001b[32m----> \u001b[39m\u001b[32m8\u001b[39m gray = \u001b[43mcv2\u001b[49m\u001b[43m.\u001b[49m\u001b[43mcvtColor\u001b[49m\u001b[43m(\u001b[49m\u001b[43mimg\u001b[49m\u001b[43m,\u001b[49m\u001b[43m \u001b[49m\u001b[43mcv2\u001b[49m\u001b[43m.\u001b[49m\u001b[43mCOLOR_BGR2GRAY\u001b[49m\u001b[43m)\u001b[49m\n\u001b[32m     10\u001b[39m \u001b[38;5;66;03m# ---- 1. Low-Level Feature: Edge Detection ----\u001b[39;00m\n\u001b[32m     11\u001b[39m edges = cv2.Canny(gray, \u001b[32m100\u001b[39m, \u001b[32m200\u001b[39m)\n",
      "\u001b[31merror\u001b[39m: OpenCV(4.11.0) D:\\a\\opencv-python\\opencv-python\\opencv\\modules\\imgproc\\src\\color.cpp:199: error: (-215:Assertion failed) !_src.empty() in function 'cv::cvtColor'\n"
     ]
    }
   ],
   "source": [
    "import cv2\n",
    "import numpy as np\n",
    "import matplotlib.pyplot as plt\n",
    "from skimage.feature import local_binary_pattern\n",
    "\n",
    "# Read image\n",
    "img = cv2.imread('cat.jpeg')\n",
    "gray = cv2.cvtColor(img, cv2.COLOR_BGR2GRAY)\n",
    "\n",
    "# ---- 1. Low-Level Feature: Edge Detection ----\n",
    "edges = cv2.Canny(gray, 100, 200)\n",
    "\n",
    "# ---- 2. Texture Feature: Local Binary Pattern ----\n",
    "radius = 1\n",
    "n_points = 8 * radius\n",
    "lbp = local_binary_pattern(gray, n_points, radius, method='uniform')\n",
    "\n",
    "# ---- 3. Color Feature: Color Histogram ----\n",
    "# Split channels\n",
    "b, g, r = cv2.split(img)\n",
    "# Calculate histogram for each channel\n",
    "hist_b = cv2.calcHist([b], [0], None, [256], [0, 256])\n",
    "hist_g = cv2.calcHist([g], [0], None, [256], [0, 256])\n",
    "hist_r = cv2.calcHist([r], [0], None, [256], [0, 256])\n",
    "\n",
    "# ---- Display Results ----\n",
    "plt.figure(figsize=(14, 8))\n",
    "\n",
    "# Original\n",
    "plt.subplot(2, 3, 1)\n",
    "plt.imshow(cv2.cvtColor(img, cv2.COLOR_BGR2RGB))\n",
    "plt.title('Original Image')\n",
    "plt.axis('off')\n",
    "\n",
    "# Edges\n",
    "plt.subplot(2, 3, 2)\n",
    "plt.imshow(edges, cmap='gray')\n",
    "plt.title('Edge Detection (Canny)')\n",
    "plt.axis('off')\n",
    "\n",
    "# LBP\n",
    "plt.subplot(2, 3, 3)\n",
    "plt.imshow(lbp, cmap='gray')\n",
    "plt.title('Local Binary Pattern (LBP)')\n",
    "plt.axis('off')\n",
    "\n",
    "# Color Histogram\n",
    "plt.subplot(2, 1, 2)\n",
    "plt.plot(hist_r, color='red')\n",
    "plt.plot(hist_g, color='green')\n",
    "plt.plot(hist_b, color='blue')\n",
    "plt.title('Color Histogram')\n",
    "plt.xlabel('Pixel Intensity')\n",
    "plt.ylabel('Frequency')\n",
    "\n",
    "plt.tight_layout()\n",
    "plt.show()\n"
   ]
  },
  {
   "cell_type": "code",
   "execution_count": null,
   "id": "c354ec97-1292-494f-b408-2b6a824c1aeb",
   "metadata": {},
   "outputs": [],
   "source": []
  }
 ],
 "metadata": {
  "kernelspec": {
   "display_name": "Python 3 (ipykernel)",
   "language": "python",
   "name": "python3"
  },
  "language_info": {
   "codemirror_mode": {
    "name": "ipython",
    "version": 3
   },
   "file_extension": ".py",
   "mimetype": "text/x-python",
   "name": "python",
   "nbconvert_exporter": "python",
   "pygments_lexer": "ipython3",
   "version": "3.13.3"
  }
 },
 "nbformat": 4,
 "nbformat_minor": 5
}
