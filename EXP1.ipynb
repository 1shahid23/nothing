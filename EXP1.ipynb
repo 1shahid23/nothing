{
 "cells": [
  {
   "cell_type": "markdown",
   "id": "fdf33a35-599f-4264-b130-0df8f1c5c9b1",
   "metadata": {},
   "source": [
    "Experiment No. 1\n",
    "Write a Program to read a color digital image and perform the following:\n",
    "(i) Split and display its RGB channels. Apply zeros to other channels, display\n",
    "RGB channels again, and observe the differences.\n",
    "(ii) Convert it to grayscale and binary image. Display all the images one by one\n",
    "along with its histogram."
   ]
  },
  {
   "cell_type": "code",
   "execution_count": 1,
   "id": "89a20b9c-59a7-4899-9a04-9983e6fad242",
   "metadata": {},
   "outputs": [
    {
     "ename": "error",
     "evalue": "OpenCV(4.11.0) D:\\a\\opencv-python\\opencv-python\\opencv\\modules\\imgproc\\src\\color.cpp:199: error: (-215:Assertion failed) !_src.empty() in function 'cv::cvtColor'\n",
     "output_type": "error",
     "traceback": [
      "\u001b[31m---------------------------------------------------------------------------\u001b[39m",
      "\u001b[31merror\u001b[39m                                     Traceback (most recent call last)",
      "\u001b[36mCell\u001b[39m\u001b[36m \u001b[39m\u001b[32mIn[1]\u001b[39m\u001b[32m, line 9\u001b[39m\n\u001b[32m      6\u001b[39m image = cv2.imread(\u001b[33m\"\u001b[39m\u001b[33mcat.jpeg\u001b[39m\u001b[33m\"\u001b[39m)  \u001b[38;5;66;03m# Replace 'image.jpg' with your image file\u001b[39;00m\n\u001b[32m      8\u001b[39m \u001b[38;5;66;03m# Convert BGR to RGB (since OpenCV loads images in BGR format)\u001b[39;00m\n\u001b[32m----> \u001b[39m\u001b[32m9\u001b[39m image = \u001b[43mcv2\u001b[49m\u001b[43m.\u001b[49m\u001b[43mcvtColor\u001b[49m\u001b[43m(\u001b[49m\u001b[43mimage\u001b[49m\u001b[43m,\u001b[49m\u001b[43m \u001b[49m\u001b[43mcv2\u001b[49m\u001b[43m.\u001b[49m\u001b[43mCOLOR_BGR2RGB\u001b[49m\u001b[43m)\u001b[49m\n\u001b[32m     11\u001b[39m \u001b[38;5;66;03m# Split the RGB channels\u001b[39;00m\n\u001b[32m     12\u001b[39m R, G, B = cv2.split(image)\n",
      "\u001b[31merror\u001b[39m: OpenCV(4.11.0) D:\\a\\opencv-python\\opencv-python\\opencv\\modules\\imgproc\\src\\color.cpp:199: error: (-215:Assertion failed) !_src.empty() in function 'cv::cvtColor'\n"
     ]
    }
   ],
   "source": [
    "import cv2\n",
    "import numpy as np\n",
    "import matplotlib.pyplot as plt\n",
    "\n",
    "# Load the color image\n",
    "image = cv2.imread(\"cat.jpeg\")  # Replace 'image.jpg' with your image file\n",
    "\n",
    "# Convert BGR to RGB (since OpenCV loads images in BGR format)\n",
    "image = cv2.cvtColor(image, cv2.COLOR_BGR2RGB)\n",
    "\n",
    "# Split the RGB channels\n",
    "R, G, B = cv2.split(image)\n",
    "\n",
    "# Create blank (zero) arrays with the same shape\n",
    "zeros = np.zeros_like(R)\n",
    "\n",
    "# Generate images with only one channel active\n",
    "red_only = cv2.merge([R, zeros, zeros])\n",
    "green_only = cv2.merge([zeros, G, zeros])\n",
    "blue_only = cv2.merge([zeros, zeros, B])\n",
    "\n",
    "# Convert to grayscale\n",
    "gray = cv2.cvtColor(image, cv2.COLOR_RGB2GRAY)\n",
    "\n",
    "# Convert to binary (Thresholding)\n",
    "_, binary = cv2.threshold(gray, 128, 255, cv2.THRESH_BINARY)\n",
    "\n",
    "# Function to display images\n",
    "def show_image(title, img, cmap=None):\n",
    "    plt.figure(figsize=(5,5))\n",
    "    plt.imshow(img, cmap=cmap)\n",
    "    plt.title(title)\n",
    "    plt.axis(\"off\")\n",
    "    plt.show()\n",
    "    \n",
    "# Display the original and split images\n",
    "show_image(\"Original Image\", image)\n",
    "show_image(\"Red Channel\", red_only)\n",
    "show_image(\"Green Channel\", green_only)\n",
    "show_image(\"Blue Channel\", blue_only)\n",
    "show_image(\"Grayscale Image\", gray, cmap=\"gray\")\n",
    "show_image(\"Binary Image\", binary, cmap=\"gray\")\n",
    "\n",
    "# Plot histograms for each image\n",
    "def plot_histogram(image, title , color = \"black\"):\n",
    "    plt.figure(figsize=(6,4))\n",
    "    plt.hist(image.ravel(), bins=256, range=[0, 256], color=color, alpha=0.7)\n",
    "    plt.title(title)\n",
    "    plt.xlabel(\"Pixel Intensity\")\n",
    "    plt.ylabel(\"Frequency\")\n",
    "    plt.show()\n",
    "\n",
    "# Display histograms\n",
    "plot_histogram(R, \"Histogram of Red Channel\", color = \"Red\")\n",
    "plot_histogram(G, \"Histogram of Green Channel\", color = \"green\")\n",
    "plot_histogram(B, \"Histogram of Blue Channel\", color = \"blue\")\n",
    "plot_histogram(gray, \"Histogram of Grayscale Image\")\n",
    "plot_histogram(binary, \"Histogram of Binary Image\")\n",
    "\n"
   ]
  },
  {
   "cell_type": "code",
   "execution_count": null,
   "id": "08608410-59df-417d-8174-ead94c565ab7",
   "metadata": {},
   "outputs": [],
   "source": []
  }
 ],
 "metadata": {
  "kernelspec": {
   "display_name": "Python 3 (ipykernel)",
   "language": "python",
   "name": "python3"
  },
  "language_info": {
   "codemirror_mode": {
    "name": "ipython",
    "version": 3
   },
   "file_extension": ".py",
   "mimetype": "text/x-python",
   "name": "python",
   "nbconvert_exporter": "python",
   "pygments_lexer": "ipython3",
   "version": "3.13.3"
  }
 },
 "nbformat": 4,
 "nbformat_minor": 5
}
